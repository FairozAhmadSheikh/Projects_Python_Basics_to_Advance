{
 "cells": [
  {
   "cell_type": "code",
   "execution_count": 1,
   "id": "286185b3",
   "metadata": {},
   "outputs": [],
   "source": [
    "import json\n",
    "import os\n",
    "import sys\n",
    "import getpass\n",
    "import hashlib\n",
    "import uuid\n",
    "from datetime import datetime\n",
    "from typing import Dict, Any, List"
   ]
  },
  {
   "cell_type": "code",
   "execution_count": 2,
   "id": "57c6ab6c",
   "metadata": {},
   "outputs": [],
   "source": [
    "DATA_FILE = \"lms_data.json\""
   ]
  },
  {
   "cell_type": "code",
   "execution_count": 3,
   "id": "d286e8d2",
   "metadata": {},
   "outputs": [],
   "source": [
    "def now_str():\n",
    "    return datetime.now().isoformat(timespec=\"seconds\")\n",
    "\n",
    "\n",
    "def hash_password(password: str) -> str:\n",
    "    return hashlib.sha256(password.encode(\"utf-8\")).hexdigest()\n",
    "\n",
    "\n",
    "def clear_screen():\n",
    "    os.system(\"cls\" if os.name == \"nt\" else \"clear\")\n",
    "\n",
    "\n",
    "def pause(msg=\"Press Enter to continue...\"):\n",
    "    input(msg)"
   ]
  }
 ],
 "metadata": {
  "kernelspec": {
   "display_name": "base",
   "language": "python",
   "name": "python3"
  },
  "language_info": {
   "codemirror_mode": {
    "name": "ipython",
    "version": 3
   },
   "file_extension": ".py",
   "mimetype": "text/x-python",
   "name": "python",
   "nbconvert_exporter": "python",
   "pygments_lexer": "ipython3",
   "version": "3.13.5"
  }
 },
 "nbformat": 4,
 "nbformat_minor": 5
}
