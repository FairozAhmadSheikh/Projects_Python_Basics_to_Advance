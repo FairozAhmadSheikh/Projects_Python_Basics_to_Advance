{
 "cells": [
  {
   "cell_type": "code",
   "execution_count": 1,
   "id": "286185b3",
   "metadata": {},
   "outputs": [],
   "source": [
    "import json\n",
    "import os\n",
    "import sys\n",
    "import getpass\n",
    "import hashlib\n",
    "import uuid\n",
    "from datetime import datetime\n",
    "from typing import Dict, Any, List"
   ]
  },
  {
   "cell_type": "code",
   "execution_count": 2,
   "id": "57c6ab6c",
   "metadata": {},
   "outputs": [],
   "source": [
    "DATA_FILE = \"lms_data.json\""
   ]
  },
  {
   "cell_type": "code",
   "execution_count": null,
   "id": "d286e8d2",
   "metadata": {},
   "outputs": [],
   "source": [
    "# Utilities\n",
    "def now_str():\n",
    "    return datetime.now().isoformat(timespec=\"seconds\")\n",
    "\n",
    "\n",
    "def hash_password(password: str) -> str:\n",
    "    return hashlib.sha256(password.encode(\"utf-8\")).hexdigest()\n",
    "\n",
    "\n",
    "def clear_screen():\n",
    "    os.system(\"cls\" if os.name == \"nt\" else \"clear\")\n",
    "\n",
    "\n",
    "def pause(msg=\"Press Enter to continue...\"):\n",
    "    input(msg)"
   ]
  },
  {
   "cell_type": "code",
   "execution_count": null,
   "id": "e3706d29",
   "metadata": {},
   "outputs": [],
   "source": [
    "# Data model helpers\n",
    "\n",
    "def load_data():\n",
    "    if not os.path.exists(DATA_FILE):\n",
    "        return {\"users\": {}, \"courses\": {}}\n",
    "    with open(DATA_FILE, \"r\", encoding=\"utf-8\") as f:\n",
    "        return json.load(f)\n",
    "\n",
    "\n",
    "def save_data(data):\n",
    "    with open(DATA_FILE, \"w\", encoding=\"utf-8\") as f:\n",
    "        json.dump(data, f, indent=2)\n"
   ]
  },
  {
   "cell_type": "code",
   "execution_count": null,
   "id": "de74fc6f",
   "metadata": {},
   "outputs": [],
   "source": [
    "# User and Auth\n",
    "def create_user(data, username, password, role, full_name=\"\"):\n",
    "    if username in data[\"users\"]:\n",
    "        return False, \"username already exists\"\n",
    "    uid = str(uuid.uuid4())\n",
    "    data[\"users\"][username] = {\n",
    "        \"id\": uid,\n",
    "        \"username\": username,\n",
    "        \"full_name\": full_name,\n",
    "        \"password_hash\": hash_password(password),\n",
    "        \"role\": role,\n",
    "        \"enrolled\": [],         # list of course_ids for students\n",
    "        \"created_courses\": [],  # list of course_ids for teachers\n",
    "        \"grades\": {}            # {course_id: {quiz_id: score}}\n",
    "    }\n",
    "    save_data(data)\n",
    "    return True, \"user created\"\n",
    "\n",
    "\n",
    "def authenticate(data, username, password):\n",
    "    user = data[\"users\"].get(username)\n",
    "    if not user:\n",
    "        return None\n",
    "    if user[\"password_hash\"] == hash_password(password):\n",
    "        return user\n",
    "    return None\n"
   ]
  }
 ],
 "metadata": {
  "kernelspec": {
   "display_name": "base",
   "language": "python",
   "name": "python3"
  },
  "language_info": {
   "codemirror_mode": {
    "name": "ipython",
    "version": 3
   },
   "file_extension": ".py",
   "mimetype": "text/x-python",
   "name": "python",
   "nbconvert_exporter": "python",
   "pygments_lexer": "ipython3",
   "version": "3.13.5"
  }
 },
 "nbformat": 4,
 "nbformat_minor": 5
}
