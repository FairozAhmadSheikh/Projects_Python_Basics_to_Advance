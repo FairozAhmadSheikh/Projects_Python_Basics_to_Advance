{
 "cells": [
  {
   "cell_type": "code",
   "execution_count": null,
   "id": "286185b3",
   "metadata": {
    "vscode": {
     "languageId": "plaintext"
    }
   },
   "outputs": [],
   "source": [
    "import json\n",
    "import os\n",
    "import sys\n",
    "import getpass\n",
    "import hashlib\n",
    "import uuid\n",
    "from datetime import datetime\n",
    "from typing import Dict, Any, List"
   ]
  },
  {
   "cell_type": "code",
   "execution_count": null,
   "id": "57c6ab6c",
   "metadata": {
    "vscode": {
     "languageId": "plaintext"
    }
   },
   "outputs": [],
   "source": [
    "DATA_FILE = \"lms_data.json\""
   ]
  }
 ],
 "metadata": {
  "language_info": {
   "name": "python"
  }
 },
 "nbformat": 4,
 "nbformat_minor": 5
}
