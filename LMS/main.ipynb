{
 "cells": [
  {
   "cell_type": "code",
   "execution_count": null,
   "id": "9f76faca",
   "metadata": {},
   "outputs": [],
   "source": [
    "import pandas as pd\n",
    "import datetime"
   ]
  },
  {
   "cell_type": "code",
   "execution_count": null,
   "id": "1c435b9b",
   "metadata": {},
   "outputs": [],
   "source": [
    "books_data = {\n",
    "    'BookID': [1, 2, 3, 4],\n",
    "    'Title': ['1984', 'To Kill a Mockingbird', 'Python Programming', 'The AI Revolution'],\n",
    "    'Author': ['George Orwell', 'Harper Lee', 'John Smith', 'Jane Doe'],\n",
    "    'Available': [True, True, True, True],\n",
    "}\n",
    "books_df = pd.DataFrame(books_data)"
   ]
  }
 ],
 "metadata": {
  "kernelspec": {
   "display_name": "base",
   "language": "python",
   "name": "python3"
  },
  "language_info": {
   "name": "python",
   "version": "3.13.5"
  }
 },
 "nbformat": 4,
 "nbformat_minor": 5
}
