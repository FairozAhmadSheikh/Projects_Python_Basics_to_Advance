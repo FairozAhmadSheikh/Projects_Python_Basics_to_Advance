{
 "cells": [
  {
   "cell_type": "code",
   "execution_count": 1,
   "id": "9f76faca",
   "metadata": {},
   "outputs": [],
   "source": [
    "import pandas as pd\n",
    "import datetime"
   ]
  },
  {
   "cell_type": "code",
   "execution_count": 2,
   "id": "1c435b9b",
   "metadata": {},
   "outputs": [],
   "source": [
    "books_data = {\n",
    "    'BookID': [1, 2, 3, 4],\n",
    "    'Title': ['1984', 'To Kill a Mockingbird', 'Python Programming', 'The AI Revolution'],\n",
    "    'Author': ['George Orwell', 'Harper Lee', 'John Smith', 'Jane Doe'],\n",
    "    'Available': [True, True, True, True],\n",
    "}\n",
    "books_df = pd.DataFrame(books_data)"
   ]
  },
  {
   "cell_type": "code",
   "execution_count": 4,
   "id": "05746a29",
   "metadata": {},
   "outputs": [],
   "source": [
    "\n",
    "members_data = {\n",
    "    'MemberID': [101, 102, 103],\n",
    "    'Name': ['Ali', 'Avinsah', 'Charlie'],\n",
    "    'Email': ['ali@example.com', 'avinash@example.com', 'charlie@example.com'],\n",
    "}\n",
    "members_df = pd.DataFrame(members_data)"
   ]
  },
  {
   "cell_type": "code",
   "execution_count": null,
   "id": "59b9632e",
   "metadata": {},
   "outputs": [],
   "source": [
    "# Lending history (as list of dicts.  for easy appending\n",
    "lending_history = []"
   ]
  }
 ],
 "metadata": {
  "kernelspec": {
   "display_name": "base",
   "language": "python",
   "name": "python3"
  },
  "language_info": {
   "codemirror_mode": {
    "name": "ipython",
    "version": 3
   },
   "file_extension": ".py",
   "mimetype": "text/x-python",
   "name": "python",
   "nbconvert_exporter": "python",
   "pygments_lexer": "ipython3",
   "version": "3.13.5"
  }
 },
 "nbformat": 4,
 "nbformat_minor": 5
}
