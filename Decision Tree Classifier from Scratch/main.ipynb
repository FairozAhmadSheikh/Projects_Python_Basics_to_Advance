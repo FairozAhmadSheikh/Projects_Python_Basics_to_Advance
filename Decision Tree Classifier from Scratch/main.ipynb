{
 "cells": [
  {
   "cell_type": "code",
   "execution_count": null,
   "id": "9378133a",
   "metadata": {
    "vscode": {
     "languageId": "plaintext"
    }
   },
   "outputs": [],
   "source": [
    "import numpy as np\n",
    "from collections import Counter\n",
    "from sklearn.datasets import load_iris\n",
    "from sklearn.model_selection import train_test_split\n",
    "\n",
    "def gini(y):\n",
    "    counts = Counter(y)\n",
    "    impurity = 1\n",
    "    for lbl in counts:\n",
    "        prob = counts[lbl] / len(y)\n",
    "        impurity -= prob ** 2\n",
    "    return impurity\n"
   ]
  },
  {
   "cell_type": "code",
   "execution_count": null,
   "id": "079dbaf2",
   "metadata": {
    "vscode": {
     "languageId": "plaintext"
    }
   },
   "outputs": [],
   "source": [
    "def split(X, y, feature, threshold):\n",
    "    left_mask = X[:, feature] <= threshold\n",
    "    right_mask = X[:, feature] > threshold\n",
    "    return X[left_mask], y[left_mask], X[right_mask], y[right_mask]\n",
    "\n",
    "\n",
    "def best_split(X, y):\n",
    "    best_feature, best_thresh, best_gain = None, None, 0\n",
    "    n_features = X.shape[1]\n",
    "    current_gini = gini(y)\n",
    "    \n",
    "    for feature in range(n_features):\n",
    "        thresholds = np.unique(X[:, feature])\n",
    "        for threshold in thresholds:\n",
    "            X_left, y_left, X_right, y_right = split(X, y, feature, threshold)\n",
    "            if len(y_left) == 0 or len(y_right) == 0:\n",
    "                continue\n",
    "            p = len(y_left) / len(y)\n",
    "            gain = current_gini - (p * gini(y_left) + (1 - p) * gini(y_right))\n",
    "            if gain > best_gain:\n",
    "                best_feature, best_thresh, best_gain = feature, threshold, gain\n",
    "    return best_feature, best_thresh"
   ]
  },
  {
   "cell_type": "code",
   "execution_count": null,
   "id": "23bddd4e",
   "metadata": {
    "vscode": {
     "languageId": "plaintext"
    }
   },
   "outputs": [],
   "source": [
    "class Node:\n",
    "    def __init__(self, feature=None, threshold=None, left=None, right=None, value=None):\n",
    "        self.feature = feature\n",
    "        self.threshold = threshold\n",
    "        self.left = left\n",
    "        self.right = right\n",
    "        self.value = value\n",
    "\n",
    "\n",
    "def build_tree(X, y, depth=0, max_depth=5):\n",
    "    if len(set(y)) == 1 or depth == max_depth:\n",
    "        return Node(value=Counter(y).most_common(1)[0][0])\n",
    "    \n",
    "    feature, threshold = best_split(X, y)\n",
    "    if feature is None:\n",
    "        return Node(value=Counter(y).most_common(1)[0][0])\n",
    "    \n",
    "    X_left, y_left, X_right, y_right = split(X, y, feature, threshold)\n",
    "    left_node = build_tree(X_left, y_left, depth + 1, max_depth)\n",
    "    right_node = build_tree(X_right, y_right, depth + 1, max_depth)\n",
    "    return Node(feature=feature, threshold=threshold, left=left_node, right=right_node)"
   ]
  },
  {
   "cell_type": "code",
   "execution_count": null,
   "id": "d7e30d38",
   "metadata": {
    "vscode": {
     "languageId": "plaintext"
    }
   },
   "outputs": [],
   "source": [
    "def predict_one(x, node):\n",
    "    if node.value is not None:\n",
    "        return node.value\n",
    "    if x[node.feature] <= node.threshold:\n",
    "        return predict_one(x, node.left)\n",
    "    else:\n",
    "        return predict_one(x, node.right)\n",
    "\n",
    "def predict(X, tree):\n",
    "    return [predict_one(x, tree) for x in X]"
   ]
  },
  {
   "cell_type": "code",
   "execution_count": null,
   "id": "c8e27e97",
   "metadata": {
    "vscode": {
     "languageId": "plaintext"
    }
   },
   "outputs": [],
   "source": [
    "iris = load_iris()\n",
    "X, y = iris.data, iris.target\n",
    "# For binary classification, use only two classes\n",
    "X, y = X[y != 2], y[y != 2]\n",
    "\n",
    "X_train, X_test, y_train, y_test = train_test_split(X, y, test_size=0.3, random_state=42)\n",
    "\n",
    "tree = build_tree(X_train, y_train, max_depth=3)\n",
    "y_pred = predict(X_test, tree)\n",
    "\n",
    "accuracy = np.mean(y_pred == y_test)\n",
    "print(f\"✅ Accuracy: {accuracy * 100:.2f}%\")"
   ]
  }
 ],
 "metadata": {
  "language_info": {
   "name": "python"
  }
 },
 "nbformat": 4,
 "nbformat_minor": 5
}
