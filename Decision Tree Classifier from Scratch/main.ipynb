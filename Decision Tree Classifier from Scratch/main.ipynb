{
 "cells": [
  {
   "cell_type": "code",
   "execution_count": null,
   "id": "9378133a",
   "metadata": {
    "vscode": {
     "languageId": "plaintext"
    }
   },
   "outputs": [],
   "source": [
    "import numpy as np\n",
    "from collections import Counter\n",
    "from sklearn.datasets import load_iris\n",
    "from sklearn.model_selection import train_test_split\n",
    "\n",
    "def gini(y):\n",
    "    counts = Counter(y)\n",
    "    impurity = 1\n",
    "    for lbl in counts:\n",
    "        prob = counts[lbl] / len(y)\n",
    "        impurity -= prob ** 2\n",
    "    return impurity\n"
   ]
  }
 ],
 "metadata": {
  "language_info": {
   "name": "python"
  }
 },
 "nbformat": 4,
 "nbformat_minor": 5
}
