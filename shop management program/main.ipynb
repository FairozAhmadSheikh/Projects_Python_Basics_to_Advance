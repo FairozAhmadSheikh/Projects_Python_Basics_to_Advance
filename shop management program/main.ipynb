{
 "cells": [
  {
   "cell_type": "code",
   "execution_count": 1,
   "id": "b8e457b5",
   "metadata": {},
   "outputs": [],
   "source": [
    "import pandas as pd"
   ]
  },
  {
   "cell_type": "code",
   "execution_count": 3,
   "id": "d8f62c78",
   "metadata": {},
   "outputs": [],
   "source": [
    "items_data = {\n",
    "    'ItemID': [1, 2, 3, 4],\n",
    "    'ItemName': ['Apple', 'Bread', 'Milk', 'Eggs'],\n",
    "    'Price': [15, 40, 25, 5],\n",
    "    'Stock': [20, 10, 15, 30],\n",
    "}\n",
    "shop_df = pd.DataFrame(items_data)"
   ]
  },
  {
   "cell_type": "code",
   "execution_count": 4,
   "id": "cae24cab",
   "metadata": {},
   "outputs": [],
   "source": [
    "cart = []"
   ]
  },
  {
   "cell_type": "code",
   "execution_count": 5,
   "id": "57b876ee",
   "metadata": {},
   "outputs": [],
   "source": [
    "def display_items():\n",
    "    \n",
    "    print('Available items:')\n",
    "    print(shop_df)"
   ]
  },
  {
   "cell_type": "code",
   "execution_count": 7,
   "id": "76cad7d5",
   "metadata": {},
   "outputs": [],
   "source": [
    "def buy_item(item_id, quantity):\n",
    "    \n",
    "    if item_id not in shop_df['ItemID'].values:\n",
    "        print('Item not found.')\n",
    "        return\n",
    "    idx = shop_df[shop_df['ItemID'] == item_id].index[0]\n",
    "\n",
    "    if shop_df.at[idx, 'Stock'] >= quantity:\n",
    "        shop_df.at[idx, 'Stock'] -= quantity\n",
    "        \n",
    "        cart.append({'ItemID': item_id, 'ItemName': shop_df.at[idx, 'ItemName'], 'Quantity': quantity, 'TotalPrice': shop_df.at[idx, 'Price'] * quantity})\n",
    "        print(f'Bought {quantity} x {shop_df.at[idx, \"ItemName\"]}')\n",
    "\n",
    "    else:\n",
    "        print('Not enough stock.')"
   ]
  },
  {
   "cell_type": "code",
   "execution_count": 8,
   "id": "8785d5cc",
   "metadata": {},
   "outputs": [],
   "source": [
    "def show_cart():\n",
    "    \n",
    "    print('Shopping Cart:')\n",
    "    df = pd.DataFrame(cart)\n",
    "    print(df)"
   ]
  },
  {
   "cell_type": "code",
   "execution_count": null,
   "id": "90431bc9",
   "metadata": {},
   "outputs": [],
   "source": [
    "def checkout():\n",
    "    if not cart:\n",
    "        print(\"Cart is empty.\")\n",
    "        return\n",
    "    total = sum(item['TotalPrice'] for item in cart)\n",
    "    print(\"Your cart items:\")\n",
    "    for item in cart:\n",
    "        print(f\"{item['Quantity']} x {item['ItemName']} = {item['TotalPrice']}\")\n",
    "    print(f\"Total Bill: {total}\")\n",
    "    cart.clear()  \n",
    "    print(\"Thank you for your purchase!\")\n",
    "# You can call checkout whenever needde\n",
    "# checkout()"
   ]
  },
  {
   "cell_type": "code",
   "execution_count": null,
   "id": "25f93f1b",
   "metadata": {},
   "outputs": [],
   "source": [
    "def remove_from_cart(item_id):\n",
    "    global cart\n",
    "    \n",
    "    for i, item in enumerate(cart):\n",
    "        if item['ItemID'] == item_id:\n",
    "            idx = shop_df[shop_df['ItemID'] == item_id].index[0]\n",
    "            shop_df.at[idx, 'Stock'] += item['Quantity']  # Restore stock\n",
    "            cart.pop(i)\n",
    "            print(f\"Removed {item['ItemName']} from cart.\")\n",
    "            return\n",
    "    print(\"Item not found in cart.\")"
   ]
  },
  {
   "cell_type": "code",
   "execution_count": 9,
   "id": "a1396b87",
   "metadata": {},
   "outputs": [
    {
     "name": "stdout",
     "output_type": "stream",
     "text": [
      "Available items:\n",
      "   ItemID ItemName  Price  Stock\n",
      "0       1    Apple     15     20\n",
      "1       2    Bread     40     10\n",
      "2       3     Milk     25     15\n",
      "3       4     Eggs      5     30\n",
      "Bought 2 x Apple\n",
      "Bought 1 x Milk\n",
      "Bought 5 x Eggs\n",
      "Shopping Cart:\n",
      "   ItemID ItemName  Quantity  TotalPrice\n",
      "0       1    Apple         2          30\n",
      "1       3     Milk         1          25\n",
      "2       4     Eggs         5          25\n",
      "Available items:\n",
      "   ItemID ItemName  Price  Stock\n",
      "0       1    Apple     15     18\n",
      "1       2    Bread     40     10\n",
      "2       3     Milk     25     14\n",
      "3       4     Eggs      5     25\n"
     ]
    }
   ],
   "source": [
    "\n",
    "if __name__ == '__main__':\n",
    "    display_items()             \n",
    "    buy_item(1, 2)              \n",
    "    buy_item(3, 1)              \n",
    "    buy_item(4, 5)             \n",
    "    show_cart()                 \n",
    "    display_items()            "
   ]
  }
 ],
 "metadata": {
  "kernelspec": {
   "display_name": "base",
   "language": "python",
   "name": "python3"
  },
  "language_info": {
   "codemirror_mode": {
    "name": "ipython",
    "version": 3
   },
   "file_extension": ".py",
   "mimetype": "text/x-python",
   "name": "python",
   "nbconvert_exporter": "python",
   "pygments_lexer": "ipython3",
   "version": "3.13.5"
  }
 },
 "nbformat": 4,
 "nbformat_minor": 5
}
