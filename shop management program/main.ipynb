{
 "cells": [
  {
   "cell_type": "code",
   "execution_count": 1,
   "id": "b8e457b5",
   "metadata": {},
   "outputs": [],
   "source": [
    "import pandas as pd"
   ]
  },
  {
   "cell_type": "code",
   "execution_count": 3,
   "id": "d8f62c78",
   "metadata": {},
   "outputs": [],
   "source": [
    "items_data = {\n",
    "    'ItemID': [1, 2, 3, 4],\n",
    "    'ItemName': ['Apple', 'Bread', 'Milk', 'Eggs'],\n",
    "    'Price': [15, 40, 25, 5],\n",
    "    'Stock': [20, 10, 15, 30],\n",
    "}\n",
    "shop_df = pd.DataFrame(items_data)"
   ]
  },
  {
   "cell_type": "code",
   "execution_count": 4,
   "id": "cae24cab",
   "metadata": {},
   "outputs": [],
   "source": [
    "cart = []"
   ]
  },
  {
   "cell_type": "code",
   "execution_count": 5,
   "id": "57b876ee",
   "metadata": {},
   "outputs": [],
   "source": [
    "def display_items():\n",
    "    \n",
    "    print('Available items:')\n",
    "    print(shop_df)"
   ]
  },
  {
   "cell_type": "code",
   "execution_count": 7,
   "id": "76cad7d5",
   "metadata": {},
   "outputs": [],
   "source": [
    "def buy_item(item_id, quantity):\n",
    "    \n",
    "    if item_id not in shop_df['ItemID'].values:\n",
    "        print('Item not found.')\n",
    "        return\n",
    "    idx = shop_df[shop_df['ItemID'] == item_id].index[0]\n",
    "\n",
    "    if shop_df.at[idx, 'Stock'] >= quantity:\n",
    "        shop_df.at[idx, 'Stock'] -= quantity\n",
    "        \n",
    "        cart.append({'ItemID': item_id, 'ItemName': shop_df.at[idx, 'ItemName'], 'Quantity': quantity, 'TotalPrice': shop_df.at[idx, 'Price'] * quantity})\n",
    "        print(f'Bought {quantity} x {shop_df.at[idx, \"ItemName\"]}')\n",
    "\n",
    "    else:\n",
    "        print('Not enough stock.')"
   ]
  },
  {
   "cell_type": "code",
   "execution_count": null,
   "id": "8785d5cc",
   "metadata": {},
   "outputs": [],
   "source": [
    "def show_cart():\n",
    "    \n",
    "    print('Shopping Cart:')\n",
    "    df = pd.DataFrame(cart)\n",
    "    print(df)"
   ]
  }
 ],
 "metadata": {
  "kernelspec": {
   "display_name": "base",
   "language": "python",
   "name": "python3"
  },
  "language_info": {
   "codemirror_mode": {
    "name": "ipython",
    "version": 3
   },
   "file_extension": ".py",
   "mimetype": "text/x-python",
   "name": "python",
   "nbconvert_exporter": "python",
   "pygments_lexer": "ipython3",
   "version": "3.13.5"
  }
 },
 "nbformat": 4,
 "nbformat_minor": 5
}
