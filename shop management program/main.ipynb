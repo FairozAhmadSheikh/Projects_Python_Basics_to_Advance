{
 "cells": [
  {
   "cell_type": "code",
   "execution_count": 1,
   "id": "b8e457b5",
   "metadata": {},
   "outputs": [],
   "source": [
    "import pandas as pd"
   ]
  },
  {
   "cell_type": "code",
   "execution_count": null,
   "id": "d8f62c78",
   "metadata": {},
   "outputs": [],
   "source": [
    "items_data = {\n",
    "    'ItemID': [1, 2, 3, 4],\n",
    "    'ItemName': ['Apple', 'Bread', 'Milk', 'Eggs'],\n",
    "    'Price': [15, 40, 25, 5],\n",
    "    'Stock': [20, 10, 15, 30],\n",
    "}\n",
    "shop_df = pd.DataFrame(items_data)"
   ]
  },
  {
   "cell_type": "code",
   "execution_count": 2,
   "id": "cae24cab",
   "metadata": {},
   "outputs": [],
   "source": [
    "cart = []"
   ]
  },
  {
   "cell_type": "code",
   "execution_count": null,
   "id": "57b876ee",
   "metadata": {},
   "outputs": [],
   "source": [
    "def display_items():\n",
    "    \n",
    "    print('Available items:')\n",
    "    print(shop_df)"
   ]
  },
  {
   "cell_type": "code",
   "execution_count": null,
   "id": "76cad7d5",
   "metadata": {},
   "outputs": [],
   "source": [
    "def buy_item(item_id, quantity):\n",
    "    \n",
    "    if item_id not in shop_df['ItemID'].values:\n",
    "        print('Item not found.')\n",
    "        return"
   ]
  }
 ],
 "metadata": {
  "kernelspec": {
   "display_name": "base",
   "language": "python",
   "name": "python3"
  },
  "language_info": {
   "codemirror_mode": {
    "name": "ipython",
    "version": 3
   },
   "file_extension": ".py",
   "mimetype": "text/x-python",
   "name": "python",
   "nbconvert_exporter": "python",
   "pygments_lexer": "ipython3",
   "version": "3.13.5"
  }
 },
 "nbformat": 4,
 "nbformat_minor": 5
}
